{
 "cells": [
  {
   "cell_type": "code",
   "execution_count": 2,
   "id": "acae3ba1",
   "metadata": {},
   "outputs": [],
   "source": [
    "# Import the required libraries.\n",
    "import os\n",
    "import cv2\n",
    "import pafy\n",
    "import math\n",
    "import random\n",
    "import numpy as np\n",
    "import datetime as dt\n",
    "import tensorflow as tf\n",
    "from collections import deque\n",
    "import matplotlib.pyplot as plt\n",
    "\n",
    "from moviepy.editor import *\n",
    "%matplotlib inline\n",
    "\n",
    "from sklearn.model_selection import train_test_split\n",
    "\n",
    "from tensorflow.keras.layers import *\n",
    "from tensorflow.keras.models import Sequential\n",
    "from tensorflow.keras.utils import to_categorical\n",
    "from tensorflow.keras.callbacks import EarlyStopping\n",
    "from tensorflow.keras.utils import plot_model"
   ]
  },
  {
   "cell_type": "code",
   "execution_count": 3,
   "id": "417dc7af",
   "metadata": {},
   "outputs": [],
   "source": [
    "# seed_constant = 27\n",
    "# np.random.seed(seed_constant)\n",
    "# random.seed(seed_constant)\n",
    "# tf.random.set_seed(seed_constant)"
   ]
  },
  {
   "cell_type": "code",
   "execution_count": 8,
   "id": "e673df83",
   "metadata": {},
   "outputs": [],
   "source": [
    "# Specify the height and width of the images.\n",
    "IMAGE_HEIGHT, IMAGE_WIDTH = 64, 64\n",
    "\n",
    "# Specify the number of frames (images) in a sequence.\n",
    "SEQUENCE_LENGTH = 15\n",
    "\n",
    "# Specify the directory containing your dataset of images.\n",
    "DATASET_DIR = \"E:/Anamoly Detection\"\n",
    " \n",
    "# Specify the list containing the names of the classes used for training. Feel free to choose any set of classes.\n"
   ]
  },
  {
   "cell_type": "code",
   "execution_count": 9,
   "id": "521ac727",
   "metadata": {},
   "outputs": [],
   "source": [
    "def load_images(class_name):\n",
    "    images_list = []\n",
    "    class_dir = os.path.join(DATASET_DIR, class_name)\n",
    "    image_files = os.listdir(class_dir)\n",
    "    image_files.sort()\n",
    "\n",
    "    for image_file in image_files:\n",
    "        image_path = os.path.join(class_dir, image_file)\n",
    "        image = cv2.imread(image_path)\n",
    "        resized_image = cv2.resize(image, (IMAGE_HEIGHT, IMAGE_WIDTH))\n",
    "        normalized_image = resized_image / 255.0\n",
    "        images_list.append(normalized_image)\n",
    "\n",
    "    return images_list"
   ]
  },
  {
   "cell_type": "code",
   "execution_count": 10,
   "id": "695ade5d",
   "metadata": {},
   "outputs": [],
   "source": [
    "def create_dataset():\n",
    "    features = []\n",
    "    labels = []\n",
    "\n",
    "    for class_index, class_name in enumerate(CLASSES_LIST):\n",
    "        print(f'Loading data for class: {class_name}')\n",
    "        images = load_images(class_name)\n",
    "\n",
    "        for i in range(0, len(images) - SEQUENCE_LENGTH + 1, SEQUENCE_LENGTH):\n",
    "            sequence = images[i:i+SEQUENCE_LENGTH]\n",
    "            features.append(sequence)\n",
    "            labels.append(class_index)\n",
    "    np.save('features.npy', features)\n",
    "    np.save('labels.npy' , labels)\n",
    "\n",
    "    return np.array(features), np.array(labels)\n"
   ]
  },
  {
   "cell_type": "code",
   "execution_count": 11,
   "id": "167dfb09",
   "metadata": {},
   "outputs": [
    {
     "name": "stdout",
     "output_type": "stream",
     "text": [
      "Loading data for class: Abuse\n",
      "Loading data for class: Arrest\n",
      "Loading data for class: Explosion\n",
      "Loading data for class: Fighting\n",
      "Loading data for class: RoadAccidents\n",
      "Loading data for class: Robbery\n",
      "Loading data for class: Shooting\n",
      "Loading data for class: Stealing\n"
     ]
    }
   ],
   "source": [
    "features, labels = create_dataset()"
   ]
  },
  {
   "cell_type": "code",
   "execution_count": 12,
   "id": "f81647c2",
   "metadata": {},
   "outputs": [
    {
     "data": {
      "text/plain": [
       "array([0, 0, 0, ..., 7, 7, 7])"
      ]
     },
     "execution_count": 12,
     "metadata": {},
     "output_type": "execute_result"
    }
   ],
   "source": [
    "features.shape, labels.shape\n",
    "labels"
   ]
  },
  {
   "cell_type": "code",
   "execution_count": 13,
   "id": "de4c3977",
   "metadata": {},
   "outputs": [],
   "source": [
    "one_hot_encoded_labels = to_categorical(labels)"
   ]
  },
  {
   "cell_type": "code",
   "execution_count": 14,
   "id": "5fb9ba9a",
   "metadata": {},
   "outputs": [
    {
     "data": {
      "text/plain": [
       "array([[1., 0., 0., ..., 0., 0., 0.],\n",
       "       [1., 0., 0., ..., 0., 0., 0.],\n",
       "       [1., 0., 0., ..., 0., 0., 0.],\n",
       "       ...,\n",
       "       [0., 0., 0., ..., 0., 0., 1.],\n",
       "       [0., 0., 0., ..., 0., 0., 1.],\n",
       "       [0., 0., 0., ..., 0., 0., 1.]], dtype=float32)"
      ]
     },
     "execution_count": 14,
     "metadata": {},
     "output_type": "execute_result"
    }
   ],
   "source": [
    "one_hot_encoded_labels"
   ]
  },
  {
   "cell_type": "code",
   "execution_count": 15,
   "id": "ec8dcf8e",
   "metadata": {},
   "outputs": [],
   "source": [
    "features_train, features_test, labels_train, labels_test = train_test_split(\n",
    "    features, one_hot_encoded_labels, test_size=0.25, shuffle=True, random_state=42)"
   ]
  },
  {
   "cell_type": "code",
   "execution_count": 16,
   "id": "fe34d6d9",
   "metadata": {},
   "outputs": [],
   "source": [
    "def create_LRCN_model():\n",
    "    '''\n",
    "    This function will construct the required LRCN model.\n",
    "    Returns:\n",
    "        model: It is the required constructed LRCN model.\n",
    "    '''\n",
    "\n",
    "    # We will use a Sequential model for model construction.\n",
    "    model = Sequential()\n",
    "    \n",
    "    # Define the Model Architecture.\n",
    "    ########################################################################################################################\n",
    "    model.add(TimeDistributed(Conv2D(16, (3, 3), padding='same',activation = 'relu'),\n",
    "                              input_shape = (SEQUENCE_LENGTH, IMAGE_HEIGHT, IMAGE_WIDTH, 3)))\n",
    "    \n",
    "    model.add(TimeDistributed(MaxPooling2D((4, 4)))) \n",
    "    model.add(TimeDistributed(Dropout(0.25)))\n",
    "    \n",
    "    model.add(TimeDistributed(Conv2D(32, (3, 3), padding='same',activation = 'relu')))\n",
    "    model.add(TimeDistributed(MaxPooling2D((4, 4))))\n",
    "    model.add(TimeDistributed(Dropout(0.25)))\n",
    "    \n",
    "    model.add(TimeDistributed(Conv2D(64, (3, 3), padding='same',activation = 'relu')))\n",
    "    model.add(TimeDistributed(MaxPooling2D((2, 2))))\n",
    "    model.add(TimeDistributed(Dropout(0.25)))\n",
    "    \n",
    "    model.add(TimeDistributed(Conv2D(64, (3, 3), padding='same',activation = 'relu')))\n",
    "    model.add(TimeDistributed(MaxPooling2D((2, 2))))\n",
    "    #model.add(TimeDistributed(Dropout(0.25)))\n",
    "                                      \n",
    "    model.add(TimeDistributed(Flatten()))\n",
    "                                      \n",
    "    model.add(LSTM(32))\n",
    "                                      \n",
    "    model.add(Dense(len(CLASSES_LIST), activation = 'softmax'))\n",
    "\n",
    "    ########################################################################################################################\n",
    "\n",
    "    # Display the models summary.\n",
    "    model.summary()\n",
    "    \n",
    "    # Return the constructed LRCN model.\n",
    "    return model"
   ]
  },
  {
   "cell_type": "code",
   "execution_count": 17,
   "id": "dc354287",
   "metadata": {
    "scrolled": true
   },
   "outputs": [
    {
     "name": "stdout",
     "output_type": "stream",
     "text": [
      "Model: \"sequential\"\n",
      "_________________________________________________________________\n",
      " Layer (type)                Output Shape              Param #   \n",
      "=================================================================\n",
      " time_distributed (TimeDistr  (None, 15, 64, 64, 16)   448       \n",
      " ibuted)                                                         \n",
      "                                                                 \n",
      " time_distributed_1 (TimeDis  (None, 15, 16, 16, 16)   0         \n",
      " tributed)                                                       \n",
      "                                                                 \n",
      " time_distributed_2 (TimeDis  (None, 15, 16, 16, 16)   0         \n",
      " tributed)                                                       \n",
      "                                                                 \n",
      " time_distributed_3 (TimeDis  (None, 15, 16, 16, 32)   4640      \n",
      " tributed)                                                       \n",
      "                                                                 \n",
      " time_distributed_4 (TimeDis  (None, 15, 4, 4, 32)     0         \n",
      " tributed)                                                       \n",
      "                                                                 \n",
      " time_distributed_5 (TimeDis  (None, 15, 4, 4, 32)     0         \n",
      " tributed)                                                       \n",
      "                                                                 \n",
      " time_distributed_6 (TimeDis  (None, 15, 4, 4, 64)     18496     \n",
      " tributed)                                                       \n",
      "                                                                 \n",
      " time_distributed_7 (TimeDis  (None, 15, 2, 2, 64)     0         \n",
      " tributed)                                                       \n",
      "                                                                 \n",
      " time_distributed_8 (TimeDis  (None, 15, 2, 2, 64)     0         \n",
      " tributed)                                                       \n",
      "                                                                 \n",
      " time_distributed_9 (TimeDis  (None, 15, 2, 2, 64)     36928     \n",
      " tributed)                                                       \n",
      "                                                                 \n",
      " time_distributed_10 (TimeDi  (None, 15, 1, 1, 64)     0         \n",
      " stributed)                                                      \n",
      "                                                                 \n",
      " time_distributed_11 (TimeDi  (None, 15, 64)           0         \n",
      " stributed)                                                      \n",
      "                                                                 \n",
      " lstm (LSTM)                 (None, 32)                12416     \n",
      "                                                                 \n",
      " dense (Dense)               (None, 8)                 264       \n",
      "                                                                 \n",
      "=================================================================\n",
      "Total params: 73,192\n",
      "Trainable params: 73,192\n",
      "Non-trainable params: 0\n",
      "_________________________________________________________________\n",
      "Model Created Successfully!\n"
     ]
    }
   ],
   "source": [
    "LRCN_model = create_LRCN_model()\n",
    "\n",
    "print(\"Model Created Successfully!\")"
   ]
  },
  {
   "cell_type": "code",
   "execution_count": 18,
   "id": "43362384",
   "metadata": {},
   "outputs": [],
   "source": [
    "# Compile the model and specify loss function, optimizer and metrics to the model.\n",
    "LRCN_model.compile(loss='categorical_crossentropy', optimizer='Adam', metrics=[\"accuracy\"])"
   ]
  },
  {
   "cell_type": "code",
   "execution_count": 19,
   "id": "83333554",
   "metadata": {},
   "outputs": [
    {
     "name": "stdout",
     "output_type": "stream",
     "text": [
      "Epoch 1/50\n",
      "576/576 [==============================] - 246s 389ms/step - loss: 1.7261 - accuracy: 0.3694 - val_loss: 1.3264 - val_accuracy: 0.5462\n",
      "Epoch 2/50\n",
      "576/576 [==============================] - 120s 208ms/step - loss: 1.1292 - accuracy: 0.6143 - val_loss: 0.9083 - val_accuracy: 0.6874\n",
      "Epoch 3/50\n",
      "576/576 [==============================] - 118s 205ms/step - loss: 0.7291 - accuracy: 0.7602 - val_loss: 0.5534 - val_accuracy: 0.8281\n",
      "Epoch 4/50\n",
      "576/576 [==============================] - 118s 205ms/step - loss: 0.4797 - accuracy: 0.8500 - val_loss: 0.3982 - val_accuracy: 0.8819\n",
      "Epoch 5/50\n",
      "576/576 [==============================] - 118s 206ms/step - loss: 0.3378 - accuracy: 0.8985 - val_loss: 0.3224 - val_accuracy: 0.9053\n",
      "Epoch 6/50\n",
      "576/576 [==============================] - 120s 208ms/step - loss: 0.2593 - accuracy: 0.9211 - val_loss: 0.2828 - val_accuracy: 0.9110\n",
      "Epoch 7/50\n",
      "576/576 [==============================] - 118s 205ms/step - loss: 0.2004 - accuracy: 0.9406 - val_loss: 0.2903 - val_accuracy: 0.9140\n",
      "Epoch 8/50\n",
      "576/576 [==============================] - 118s 205ms/step - loss: 0.1745 - accuracy: 0.9465 - val_loss: 0.2205 - val_accuracy: 0.9405\n",
      "Epoch 9/50\n",
      "576/576 [==============================] - 117s 203ms/step - loss: 0.1445 - accuracy: 0.9555 - val_loss: 0.1836 - val_accuracy: 0.9475\n",
      "Epoch 10/50\n",
      "576/576 [==============================] - 116s 202ms/step - loss: 0.1117 - accuracy: 0.9661 - val_loss: 0.1466 - val_accuracy: 0.9596\n",
      "Epoch 11/50\n",
      "576/576 [==============================] - 116s 202ms/step - loss: 0.1058 - accuracy: 0.9666 - val_loss: 0.1533 - val_accuracy: 0.9557\n",
      "Epoch 12/50\n",
      "576/576 [==============================] - 115s 199ms/step - loss: 0.0863 - accuracy: 0.9742 - val_loss: 0.1366 - val_accuracy: 0.9614\n",
      "Epoch 13/50\n",
      "576/576 [==============================] - 116s 202ms/step - loss: 0.0739 - accuracy: 0.9781 - val_loss: 0.1884 - val_accuracy: 0.9514\n",
      "Epoch 14/50\n",
      "576/576 [==============================] - 116s 201ms/step - loss: 0.0781 - accuracy: 0.9757 - val_loss: 0.1741 - val_accuracy: 0.9531\n",
      "Epoch 15/50\n",
      "576/576 [==============================] - 115s 200ms/step - loss: 0.0594 - accuracy: 0.9812 - val_loss: 0.1586 - val_accuracy: 0.9561\n",
      "Epoch 16/50\n",
      "576/576 [==============================] - 115s 200ms/step - loss: 0.0677 - accuracy: 0.9787 - val_loss: 0.1361 - val_accuracy: 0.9635\n",
      "Epoch 17/50\n",
      "576/576 [==============================] - 115s 200ms/step - loss: 0.0385 - accuracy: 0.9885 - val_loss: 0.1910 - val_accuracy: 0.9501\n",
      "Epoch 18/50\n",
      "576/576 [==============================] - 115s 200ms/step - loss: 0.0631 - accuracy: 0.9798 - val_loss: 0.1143 - val_accuracy: 0.9696\n",
      "Epoch 19/50\n",
      "576/576 [==============================] - 116s 202ms/step - loss: 0.0456 - accuracy: 0.9849 - val_loss: 0.1161 - val_accuracy: 0.9713\n",
      "Epoch 20/50\n",
      "576/576 [==============================] - 115s 200ms/step - loss: 0.0529 - accuracy: 0.9837 - val_loss: 0.1107 - val_accuracy: 0.9705\n",
      "Epoch 21/50\n",
      "576/576 [==============================] - 115s 200ms/step - loss: 0.0344 - accuracy: 0.9896 - val_loss: 0.1109 - val_accuracy: 0.9713\n",
      "Epoch 22/50\n",
      "576/576 [==============================] - 119s 207ms/step - loss: 0.0474 - accuracy: 0.9852 - val_loss: 0.1271 - val_accuracy: 0.9696\n",
      "Epoch 23/50\n",
      "576/576 [==============================] - 117s 203ms/step - loss: 0.0361 - accuracy: 0.9891 - val_loss: 0.1011 - val_accuracy: 0.9752\n",
      "Epoch 24/50\n",
      "576/576 [==============================] - 115s 200ms/step - loss: 0.0301 - accuracy: 0.9900 - val_loss: 0.1431 - val_accuracy: 0.9631\n",
      "Epoch 25/50\n",
      "576/576 [==============================] - 116s 201ms/step - loss: 0.0405 - accuracy: 0.9870 - val_loss: 0.1388 - val_accuracy: 0.9635\n",
      "Epoch 26/50\n",
      "576/576 [==============================] - 117s 203ms/step - loss: 0.0243 - accuracy: 0.9917 - val_loss: 0.1050 - val_accuracy: 0.9774\n",
      "Epoch 27/50\n",
      "576/576 [==============================] - 116s 202ms/step - loss: 0.0474 - accuracy: 0.9844 - val_loss: 0.1247 - val_accuracy: 0.9705\n",
      "Epoch 28/50\n",
      "576/576 [==============================] - 117s 203ms/step - loss: 0.0416 - accuracy: 0.9871 - val_loss: 0.0868 - val_accuracy: 0.9779\n",
      "Epoch 29/50\n",
      "576/576 [==============================] - 116s 201ms/step - loss: 0.0161 - accuracy: 0.9953 - val_loss: 0.1169 - val_accuracy: 0.9735\n",
      "Epoch 30/50\n",
      "576/576 [==============================] - 116s 202ms/step - loss: 0.0269 - accuracy: 0.9922 - val_loss: 0.1231 - val_accuracy: 0.9718\n",
      "Epoch 31/50\n",
      "576/576 [==============================] - 116s 202ms/step - loss: 0.0316 - accuracy: 0.9900 - val_loss: 0.1327 - val_accuracy: 0.9700\n",
      "Epoch 32/50\n",
      "576/576 [==============================] - 116s 201ms/step - loss: 0.0347 - accuracy: 0.9882 - val_loss: 0.1135 - val_accuracy: 0.9748\n",
      "Epoch 33/50\n",
      "576/576 [==============================] - 116s 202ms/step - loss: 0.0264 - accuracy: 0.9911 - val_loss: 0.1776 - val_accuracy: 0.9631\n",
      "Epoch 34/50\n",
      "576/576 [==============================] - 117s 203ms/step - loss: 0.0329 - accuracy: 0.9898 - val_loss: 0.1137 - val_accuracy: 0.9705\n",
      "Epoch 35/50\n",
      "576/576 [==============================] - 117s 203ms/step - loss: 0.0192 - accuracy: 0.9929 - val_loss: 0.1127 - val_accuracy: 0.9705\n",
      "Epoch 36/50\n",
      "576/576 [==============================] - 116s 202ms/step - loss: 0.0362 - accuracy: 0.9884 - val_loss: 0.0828 - val_accuracy: 0.9813\n",
      "Epoch 37/50\n",
      "576/576 [==============================] - 120s 209ms/step - loss: 0.0162 - accuracy: 0.9954 - val_loss: 0.0753 - val_accuracy: 0.9796\n",
      "Epoch 38/50\n",
      "576/576 [==============================] - 116s 202ms/step - loss: 0.0287 - accuracy: 0.9903 - val_loss: 0.0995 - val_accuracy: 0.9800\n",
      "Epoch 39/50\n",
      "576/576 [==============================] - 117s 204ms/step - loss: 0.0337 - accuracy: 0.9896 - val_loss: 0.0915 - val_accuracy: 0.9787\n",
      "Epoch 40/50\n",
      "576/576 [==============================] - 117s 203ms/step - loss: 0.0268 - accuracy: 0.9915 - val_loss: 0.1062 - val_accuracy: 0.9726\n",
      "Epoch 41/50\n",
      "576/576 [==============================] - 116s 202ms/step - loss: 0.0267 - accuracy: 0.9915 - val_loss: 0.1113 - val_accuracy: 0.9774\n",
      "Epoch 42/50\n",
      "576/576 [==============================] - 116s 201ms/step - loss: 0.0228 - accuracy: 0.9924 - val_loss: 0.1183 - val_accuracy: 0.9739\n",
      "Epoch 43/50\n",
      "576/576 [==============================] - 116s 201ms/step - loss: 0.0137 - accuracy: 0.9950 - val_loss: 0.0814 - val_accuracy: 0.9818\n",
      "Epoch 44/50\n",
      "576/576 [==============================] - 116s 202ms/step - loss: 0.0298 - accuracy: 0.9891 - val_loss: 0.1252 - val_accuracy: 0.9700\n",
      "Epoch 45/50\n",
      "576/576 [==============================] - 116s 201ms/step - loss: 0.0245 - accuracy: 0.9928 - val_loss: 0.1166 - val_accuracy: 0.9731\n",
      "Epoch 46/50\n",
      "576/576 [==============================] - 116s 202ms/step - loss: 0.0259 - accuracy: 0.9912 - val_loss: 0.0706 - val_accuracy: 0.9857\n",
      "Epoch 47/50\n",
      "576/576 [==============================] - 116s 202ms/step - loss: 0.0244 - accuracy: 0.9922 - val_loss: 0.1015 - val_accuracy: 0.9792\n",
      "Epoch 48/50\n",
      "576/576 [==============================] - 116s 202ms/step - loss: 0.0224 - accuracy: 0.9933 - val_loss: 0.0967 - val_accuracy: 0.9809\n",
      "Epoch 49/50\n",
      "576/576 [==============================] - 116s 202ms/step - loss: 0.0252 - accuracy: 0.9917 - val_loss: 0.1429 - val_accuracy: 0.9709\n",
      "Epoch 50/50\n",
      "576/576 [==============================] - 116s 202ms/step - loss: 0.0067 - accuracy: 0.9978 - val_loss: 0.0868 - val_accuracy: 0.9818\n"
     ]
    }
   ],
   "source": [
    "# Start training the model.\n",
    "LRCN_model_training_history = LRCN_model.fit(\n",
    "    x=features_train, y=labels_train, epochs=50, batch_size=16,\n",
    "    shuffle=True, validation_split=0.2)"
   ]
  },
  {
   "cell_type": "code",
   "execution_count": 20,
   "id": "223c4933",
   "metadata": {},
   "outputs": [
    {
     "name": "stdout",
     "output_type": "stream",
     "text": [
      "120/120 [==============================] - 15s 122ms/step - loss: 0.0769 - accuracy: 0.9828\n"
     ]
    }
   ],
   "source": [
    "# Evaluate the trained model.\n",
    "model_evaluation_history = LRCN_model.evaluate(features_test, labels_test)"
   ]
  },
  {
   "cell_type": "code",
   "execution_count": 21,
   "id": "e9070862",
   "metadata": {
    "scrolled": true
   },
   "outputs": [
    {
     "name": "stdout",
     "output_type": "stream",
     "text": [
      "Model saved as LSTM.h5\n"
     ]
    }
   ],
   "source": [
    "# Save the trained model\n",
    "LRCN_model.save(\"LSTM.h5\")\n",
    "print(\"Model saved as LSTM.h5\")"
   ]
  },
  {
   "cell_type": "code",
   "execution_count": 22,
   "id": "a8d4322f",
   "metadata": {},
   "outputs": [],
   "source": [
    "# Define function to plot metrics\n",
    "def plot_metric(model_training_history, metric_name_1, metric_name_2, plot_name):\n",
    "    metric_value_1 = model_training_history.history[metric_name_1]\n",
    "    metric_value_2 = model_training_history.history[metric_name_2]\n",
    "    epochs = range(len(metric_value_1))\n",
    "\n",
    "    plt.plot(epochs, metric_value_1, 'blue', label=metric_name_1)\n",
    "    plt.plot(epochs, metric_value_2, 'red', label=metric_name_2)\n",
    "    plt.title(str(plot_name))\n",
    "    plt.legend()\n"
   ]
  },
  {
   "cell_type": "code",
   "execution_count": 24,
   "id": "6fd58191",
   "metadata": {},
   "outputs": [
    {
     "data": {
      "image/png": "[encoded data removed]",
      "text/plain": [
       "<Figure size 640x480 with 1 Axes>"
      ]
     },
     "metadata": {},
     "output_type": "display_data"
    },
    {
     "data": {
      "image/png": "[encoded data removed]",
      "text/plain": [
       "<Figure size 640x480 with 1 Axes>"
      ]
     },
     "metadata": {},
     "output_type": "display_data"
    }
   ],
   "source": [
    "# Plot accuracy and validation accuracy metrics\n",
    "plot_metric(LRCN_model_training_history, 'accuracy', 'val_accuracy', 'Total Accuracy vs Total Validation Accuracy')\n",
    "plt.ylabel('Accuracy')\n",
    "plt.xlabel('Epochs')\n",
    "plt.savefig('ACCURACY1.PNG')\n",
    "plt.show()\n",
    "\n",
    "# Plot loss and validation loss metrics\n",
    "plot_metric(LRCN_model_training_history, 'loss', 'val_loss', 'Total Loss vs Total Validation Loss')\n",
    "plt.ylabel('Loss')\n",
    "plt.xlabel('Epochs')\n",
    "plt.savefig('Loss1.png')\n",
    "plt.show()"
   ]
  },
  {
   "cell_type": "code",
   "execution_count": null,
   "id": "5d1e8274",
   "metadata": {},
   "outputs": [],
   "source": []
  },
  {
   "cell_type": "code",
   "execution_count": null,
   "id": "ff46dcfd",
   "metadata": {},
   "outputs": [],
   "source": []
  },
  {
   "cell_type": "code",
   "execution_count": null,
   "id": "3940473f",
   "metadata": {},
   "outputs": [],
   "source": []
  },
  {
   "cell_type": "code",
   "execution_count": null,
   "id": "53495085",
   "metadata": {},
   "outputs": [],
   "source": []
  },
  {
   "cell_type": "code",
   "execution_count": null,
   "id": "46af0ea9",
   "metadata": {},
   "outputs": [],
   "source": []
  }
 ],
 "metadata": {
  "kernelspec": {
   "display_name": "Python 3 (ipykernel)",
   "language": "python",
   "name": "python3"
  },
  "language_info": {
   "codemirror_mode": {
    "name": "ipython",
    "version": 3
   },
   "file_extension": ".py",
   "mimetype": "text/x-python",
   "name": "python",
   "nbconvert_exporter": "python",
   "pygments_lexer": "ipython3",
   "version": "3.9.13"
  }
 },
 "nbformat": 4,
 "nbformat_minor": 5
}
